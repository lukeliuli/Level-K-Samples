{
 "cells": [
  {
   "cell_type": "code",
   "execution_count": 23,
   "id": "5d821536-7d23-42db-a0ce-60790f093c3c",
   "metadata": {},
   "outputs": [
    {
     "name": "stdout",
     "output_type": "stream",
     "text": [
      "round: 0\n",
      "type: [0, 0, 0, 0, 0, 0, 0, 0, 0, 0]\n",
      "income: [0, 0, 0, 0, 100, 0, 0, 0, 0, 0]\n",
      "card: [66, 26, 92, 67, 42, 75, 90, 22, 62, 47]\n",
      "round: 1\n",
      "type: [0, 0, 0, 0, 0, 0, 0, 0, 0, 0]\n",
      "income: [0, 0, 100, 0, 0, 0, 0, 0, 0, 0]\n",
      "card: [27, 1, 33, 75, 28, 45, 63, 65, 39, 93]\n",
      "round: 2\n",
      "type: [0, 0, 0, 0, 0, 0, 0, 0, 0, 0]\n",
      "income: [0, 0, 0, 0, 100, 0, 0, 0, 0, 0]\n",
      "card: [19, 66, 74, 45, 41, 52, 100, 55, 31, 74]\n",
      "round: 3\n",
      "type: [0, 0, 0, 0, 0, 0, 0, 0, 0, 0]\n",
      "income: [0, 0, 0, 0, 100, 0, 0, 0, 0, 0]\n",
      "card: [92, 53, 2, 58, 38, 41, 8, 30, 89, 99]\n",
      "round: 4\n",
      "type: [0, 0, 0, 0, 0, 0, 0, 0, 0, 0]\n",
      "income: [0, 0, 0, 0, 100, 0, 0, 0, 0, 0]\n",
      "card: [54, 52, 5, 3, 36, 60, 89, 90, 44, 9]\n",
      "round: 5\n",
      "type: [0, 0, 0, 0, 0, 0, 0, 0, 0, 0]\n",
      "income: [0, 0, 0, 0, 0, 0, 100, 0, 0, 0]\n",
      "card: [3, 1, 43, 83, 53, 86, 9, 3, 43, 41]\n",
      "[[[0, 0, 0, 0, 0, 0, 0, 0, 0, 0], [66, 26, 92, 67, 42, 75, 90, 22, 62, 47], [0, 0, 0, 0, 100, 0, 0, 0, 0, 0]], [[0, 0, 0, 0, 0, 0, 0, 0, 0, 0], [27, 1, 33, 75, 28, 45, 63, 65, 39, 93], [0, 0, 100, 0, 0, 0, 0, 0, 0, 0]], [[0, 0, 0, 0, 0, 0, 0, 0, 0, 0], [19, 66, 74, 45, 41, 52, 100, 55, 31, 74], [0, 0, 0, 0, 100, 0, 0, 0, 0, 0]], [[0, 0, 0, 0, 0, 0, 0, 0, 0, 0], [92, 53, 2, 58, 38, 41, 8, 30, 89, 99], [0, 0, 0, 0, 100, 0, 0, 0, 0, 0]], [[0, 0, 0, 0, 0, 0, 0, 0, 0, 0], [54, 52, 5, 3, 36, 60, 89, 90, 44, 9], [0, 0, 0, 0, 100, 0, 0, 0, 0, 0]], [[0, 0, 0, 0, 0, 0, 0, 0, 0, 0], [3, 1, 43, 83, 53, 86, 9, 3, 43, 41], [0, 0, 0, 0, 0, 0, 100, 0, 0, 0]]]\n",
      "round: 0\n",
      "type: [1, 1, 1, 2, 1, 1, 2, 0, 0, 0]\n",
      "income: [0, 0, 0, 100, 0, 0, 0, 0, 0, 0]\n",
      "card: [33, 33, 33, 22, 33, 33, 22, 65, 34, 50]\n",
      "round: 1\n",
      "type: [1, 0, 1, 2, 1, 0, 0, 1, 1, 1]\n",
      "income: [0, 0, 0, 100, 0, 0, 0, 0, 0, 0]\n",
      "card: [33, 58, 33, 22, 33, 38, 40, 33, 33, 33]\n",
      "round: 2\n",
      "type: [0, 2, 1, 2, 2, 2, 2, 1, 0, 0]\n",
      "income: [0, 100, 0, 0, 0, 0, 0, 0, 0, 0]\n",
      "card: [56, 22, 33, 22, 22, 22, 22, 33, 55, 86]\n",
      "round: 3\n",
      "type: [0, 1, 1, 2, 2, 2, 1, 0, 1, 1]\n",
      "income: [0, 0, 0, 100, 0, 0, 0, 0, 0, 0]\n",
      "card: [27, 33, 33, 22, 22, 22, 33, 31, 33, 33]\n",
      "round: 4\n",
      "type: [1, 1, 1, 1, 1, 0, 0, 1, 1, 2]\n",
      "income: [0, 0, 0, 0, 0, 0, 0, 0, 0, 100]\n",
      "card: [33, 33, 33, 33, 33, 57, 68, 33, 33, 22]\n",
      "round: 5\n",
      "type: [0, 1, 1, 1, 2, 1, 1, 1, 1, 2]\n",
      "income: [0, 0, 0, 0, 100, 0, 0, 0, 0, 0]\n",
      "card: [60, 33, 33, 33, 22, 33, 33, 33, 33, 22]\n",
      "[[[1, 1, 1, 2, 1, 1, 2, 0, 0, 0], [33, 33, 33, 22, 33, 33, 22, 65, 34, 50], [0, 0, 0, 100, 0, 0, 0, 0, 0, 0]], [[1, 0, 1, 2, 1, 0, 0, 1, 1, 1], [33, 58, 33, 22, 33, 38, 40, 33, 33, 33], [0, 0, 0, 100, 0, 0, 0, 0, 0, 0]], [[0, 2, 1, 2, 2, 2, 2, 1, 0, 0], [56, 22, 33, 22, 22, 22, 22, 33, 55, 86], [0, 100, 0, 0, 0, 0, 0, 0, 0, 0]], [[0, 1, 1, 2, 2, 2, 1, 0, 1, 1], [27, 33, 33, 22, 22, 22, 33, 31, 33, 33], [0, 0, 0, 100, 0, 0, 0, 0, 0, 0]], [[1, 1, 1, 1, 1, 0, 0, 1, 1, 2], [33, 33, 33, 33, 33, 57, 68, 33, 33, 22], [0, 0, 0, 0, 0, 0, 0, 0, 0, 100]], [[0, 1, 1, 1, 2, 1, 1, 1, 1, 2], [60, 33, 33, 33, 22, 33, 33, 33, 33, 22], [0, 0, 0, 0, 100, 0, 0, 0, 0, 0]]]\n"
     ]
    }
   ],
   "source": [
    "!python3 testSimpleLevelK1.py --numPlayer 10 --levelRatio 1.0 0 0 0 0 --numRounds 6\n",
    "!python3 testSimpleLevelK1.py --numPlayer 10 --levelRatio 0.2 0.5 0.3 0 0 --numRounds 6\n",
    "!python3 testSimpleLevelK1.py --numPlayer 10 --levelRatio 0.2 0.5 0.3 0 0 --numRounds 6"
   ]
  },
  {
   "cell_type": "code",
   "execution_count": 17,
   "id": "6873d8e3-e0d4-4937-a729-fa11cae44bd9",
   "metadata": {},
   "outputs": [],
   "source": [
    "rvl= [0]*10"
   ]
  },
  {
   "cell_type": "code",
   "execution_count": 10,
   "id": "afda31e1-266d-490c-b4ca-715645001ca9",
   "metadata": {},
   "outputs": [
    {
     "name": "stdout",
     "output_type": "stream",
     "text": [
      "[1 1 0 1 0 0 0 0 0 0]\n"
     ]
    }
   ],
   "source": [
    "import numpy as np\n",
    "numbers = [0, 1, 2, 3, 4]\n",
    "probabilities =[0.7,0.3,0,0,0]\n",
    "\n",
    "# 使用random.choice函数生成指定数字\n",
    "generated_number = np.random.choice(numbers, p=probabilities,size=10)\n",
    "print(generated_number)"
   ]
  },
  {
   "cell_type": "code",
   "execution_count": 7,
   "id": "634110a5-f284-484a-9555-fd3b7668f760",
   "metadata": {},
   "outputs": [
    {
     "ename": "NameError",
     "evalue": "name 'mean' is not defined",
     "output_type": "error",
     "traceback": [
      "\u001b[0;31m---------------------------------------------------------------------------\u001b[0m",
      "\u001b[0;31mNameError\u001b[0m                                 Traceback (most recent call last)",
      "\u001b[0;32m<ipython-input-7-df3d0406bd65>\u001b[0m in \u001b[0;36m<module>\u001b[0;34m\u001b[0m\n\u001b[0;32m----> 1\u001b[0;31m \u001b[0mmean\u001b[0m\u001b[0;34m(\u001b[0m\u001b[0;34m[\u001b[0m\u001b[0;36m1\u001b[0m\u001b[0;34m,\u001b[0m\u001b[0;36m2\u001b[0m\u001b[0;34m,\u001b[0m\u001b[0;36m4\u001b[0m\u001b[0;34m,\u001b[0m\u001b[0;36m5\u001b[0m\u001b[0;34m]\u001b[0m\u001b[0;34m)\u001b[0m\u001b[0;34m\u001b[0m\u001b[0;34m\u001b[0m\u001b[0m\n\u001b[0m",
      "\u001b[0;31mNameError\u001b[0m: name 'mean' is not defined"
     ]
    }
   ],
   "source": [
    "mean([1,2,4,5])"
   ]
  },
  {
   "cell_type": "code",
   "execution_count": null,
   "id": "5e312905-1aaa-4541-865e-a0a1922c8264",
   "metadata": {},
   "outputs": [],
   "source": []
  }
 ],
 "metadata": {
  "kernelspec": {
   "display_name": "tensor23py36gpu",
   "language": "python",
   "name": "tensor23py36gpu"
  },
  "language_info": {
   "codemirror_mode": {
    "name": "ipython",
    "version": 3
   },
   "file_extension": ".py",
   "mimetype": "text/x-python",
   "name": "python",
   "nbconvert_exporter": "python",
   "pygments_lexer": "ipython3",
   "version": "3.6.15"
  }
 },
 "nbformat": 4,
 "nbformat_minor": 5
}
